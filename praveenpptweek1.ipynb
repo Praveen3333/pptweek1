{
 "cells": [
  {
   "cell_type": "code",
   "execution_count": 1,
   "id": "725f5311-9748-4024-addc-3cecec2905b6",
   "metadata": {},
   "outputs": [
    {
     "name": "stdout",
     "output_type": "stream",
     "text": [
      "[0, 1]\n"
     ]
    }
   ],
   "source": [
    "def twoSum(nums, target):\n",
    "    complement_dict = {}\n",
    "    for i in range(len(nums)):\n",
    "        complement = target - nums[i]\n",
    "        if complement in complement_dict:\n",
    "            return [complement_dict[complement], i]\n",
    "        complement_dict[nums[i]] = i\n",
    "    return []\n",
    "nums = [2,7,11,15]\n",
    "target = 9\n",
    "result = twoSum(nums, target)\n",
    "print(result)"
   ]
  },
  {
   "cell_type": "code",
   "execution_count": 2,
   "id": "74168be7-084b-4d39-890f-5e991c00b577",
   "metadata": {},
   "outputs": [
    {
     "name": "stdout",
     "output_type": "stream",
     "text": [
      "2\n"
     ]
    }
   ],
   "source": [
    "def removeElement(nums, val):\n",
    "    k = 0  # variable to track the count of elements not equal to val\n",
    "\n",
    "    for i in range(len(nums)):\n",
    "        if nums[i] != val:\n",
    "            nums[k] = nums[i]\n",
    "            k += 1\n",
    "\n",
    "    return k\n",
    "nums = [3,2,2,3]\n",
    "val = 3\n",
    "result = removeElement(nums, val)\n",
    "print(result)\n"
   ]
  },
  {
   "cell_type": "code",
   "execution_count": 3,
   "id": "66de03cc-d0dd-43e6-a199-c40f634491b1",
   "metadata": {},
   "outputs": [
    {
     "name": "stdout",
     "output_type": "stream",
     "text": [
      "2\n"
     ]
    }
   ],
   "source": [
    "def searchInsert(nums, target):\n",
    "    left = 0\n",
    "    right = len(nums) - 1\n",
    "    \n",
    "    while left <= right:\n",
    "        mid = left + (right - left) // 2\n",
    "        \n",
    "        if nums[mid] == target:\n",
    "            return mid\n",
    "        \n",
    "        if nums[mid] < target:\n",
    "            left = mid + 1\n",
    "        else:\n",
    "            right = mid - 1\n",
    "    \n",
    "    return left\n",
    "nums = [1,3,5,6]\n",
    "target = 5\n",
    "result = searchInsert(nums, target)\n",
    "print(result)"
   ]
  },
  {
   "cell_type": "code",
   "execution_count": 4,
   "id": "985dcd2d-00c3-4a0c-bf90-9d1c14b364ea",
   "metadata": {},
   "outputs": [
    {
     "name": "stdout",
     "output_type": "stream",
     "text": [
      "[1, 2, 4]\n"
     ]
    }
   ],
   "source": [
    "def plusOne(digits):\n",
    "    n = len(digits)\n",
    "    carry = 1\n",
    "    \n",
    "    for i in range(n - 1, -1, -1):\n",
    "        digits[i] += carry\n",
    "        \n",
    "        if digits[i] == 10:\n",
    "            digits[i] = 0\n",
    "            carry = 1\n",
    "        else:\n",
    "            carry = 0\n",
    "            break\n",
    "    \n",
    "    if carry == 1:\n",
    "        digits.insert(0, 1)\n",
    "    \n",
    "    return digits\n",
    "digits = [1,2,3]\n",
    "result = plusOne(digits)\n",
    "print(result)"
   ]
  },
  {
   "cell_type": "code",
   "execution_count": 5,
   "id": "98e31acd-9c58-460c-8bc7-07ef10f99529",
   "metadata": {},
   "outputs": [
    {
     "name": "stdout",
     "output_type": "stream",
     "text": [
      "[1, 2, 2, 3, 5, 6]\n"
     ]
    }
   ],
   "source": [
    "def merge(nums1, m, nums2, n):\n",
    "    # Initialize pointers for nums1, nums2, and the merged array\n",
    "    p1 = m - 1\n",
    "    p2 = n - 1\n",
    "    p3 = m + n - 1\n",
    "    \n",
    "    # Merge the arrays from right to left\n",
    "    while p1 >= 0 and p2 >= 0:\n",
    "        if nums1[p1] > nums2[p2]:\n",
    "            nums1[p3] = nums1[p1]\n",
    "            p1 -= 1\n",
    "        else:\n",
    "            nums1[p3] = nums2[p2]\n",
    "            p2 -= 1\n",
    "        p3 -= 1\n",
    "    \n",
    "    # Copy remaining elements from nums2 to nums1 if any\n",
    "    while p2 >= 0:\n",
    "        nums1[p3] = nums2[p2]\n",
    "        p2 -= 1\n",
    "        p3 -= 1\n",
    "nums1 = [1, 2, 3, 0, 0, 0]\n",
    "m = 3\n",
    "nums2 = [2, 5, 6]\n",
    "n = 3\n",
    "merge(nums1, m, nums2, n)\n",
    "print(nums1)"
   ]
  },
  {
   "cell_type": "code",
   "execution_count": 6,
   "id": "af335d1e-72bc-4a83-a74c-62b4dd5ee13d",
   "metadata": {},
   "outputs": [
    {
     "name": "stdout",
     "output_type": "stream",
     "text": [
      "True\n"
     ]
    }
   ],
   "source": [
    "def containsDuplicate(nums):\n",
    "    unique_set = set()\n",
    "    \n",
    "    for num in nums:\n",
    "        if num in unique_set:\n",
    "            return True\n",
    "        else:\n",
    "            unique_set.add(num)\n",
    "    \n",
    "    return False\n",
    "nums = [1,2,3,1]\n",
    "result = containsDuplicate(nums)\n",
    "print(result)"
   ]
  },
  {
   "cell_type": "code",
   "execution_count": 7,
   "id": "3780d0b1-bdef-4bec-8974-2b75dcc4d35f",
   "metadata": {},
   "outputs": [
    {
     "name": "stdout",
     "output_type": "stream",
     "text": [
      "[1, 3, 12, 0, 0]\n"
     ]
    }
   ],
   "source": [
    "def moveZeroes(nums):\n",
    "    nonzero_pos = 0\n",
    "    for i in range(len(nums)):\n",
    "        if nums[i] != 0:\n",
    "            nums[i], nums[nonzero_pos] = nums[nonzero_pos], nums[i]\n",
    "            nonzero_pos += 1\n",
    "nums = [0,1,0,3,12]\n",
    "moveZeroes(nums)\n",
    "print(nums)"
   ]
  },
  {
   "cell_type": "code",
   "execution_count": null,
   "id": "c9c91570-9e35-4f22-883c-f5139a6db8e5",
   "metadata": {},
   "outputs": [],
   "source": []
  }
 ],
 "metadata": {
  "kernelspec": {
   "display_name": "Python 3 (ipykernel)",
   "language": "python",
   "name": "python3"
  },
  "language_info": {
   "codemirror_mode": {
    "name": "ipython",
    "version": 3
   },
   "file_extension": ".py",
   "mimetype": "text/x-python",
   "name": "python",
   "nbconvert_exporter": "python",
   "pygments_lexer": "ipython3",
   "version": "3.10.8"
  }
 },
 "nbformat": 4,
 "nbformat_minor": 5
}
